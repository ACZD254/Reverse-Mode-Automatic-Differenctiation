{
 "cells": [
  {
   "cell_type": "code",
   "execution_count": 1,
   "metadata": {},
   "outputs": [],
   "source": [
    "import numpy as np"
   ]
  },
  {
   "cell_type": "code",
   "execution_count": 2,
   "metadata": {},
   "outputs": [
    {
     "data": {
      "text/plain": [
       "array([1, 2, 3, 4, 5])"
      ]
     },
     "execution_count": 2,
     "metadata": {},
     "output_type": "execute_result"
    }
   ],
   "source": [
    "x = np.array([1,2,3,4,5])\n",
    "x"
   ]
  },
  {
   "cell_type": "code",
   "execution_count": 3,
   "metadata": {},
   "outputs": [
    {
     "data": {
      "text/plain": [
       "array([ 1,  4,  9, 16, 25], dtype=int32)"
      ]
     },
     "execution_count": 3,
     "metadata": {},
     "output_type": "execute_result"
    }
   ],
   "source": [
    "np.power(x,2)"
   ]
  },
  {
   "cell_type": "code",
   "execution_count": 4,
   "metadata": {},
   "outputs": [
    {
     "data": {
      "text/plain": [
       "(3, 1, 1)"
      ]
     },
     "execution_count": 4,
     "metadata": {},
     "output_type": "execute_result"
    }
   ],
   "source": [
    "#Transpose\n",
    "x = np.array([[[1.95]], [[2.7]], [[3.75]]])\n",
    "x.shape\n"
   ]
  },
  {
   "cell_type": "code",
   "execution_count": 5,
   "metadata": {},
   "outputs": [
    {
     "data": {
      "text/plain": [
       "(3, 1, 1)"
      ]
     },
     "execution_count": 5,
     "metadata": {},
     "output_type": "execute_result"
    }
   ],
   "source": [
    "y = np.array([[[1.95]], [[2.7]], [[3.75]]])\n",
    "y.shape"
   ]
  },
  {
   "cell_type": "code",
   "execution_count": 6,
   "metadata": {},
   "outputs": [
    {
     "data": {
      "text/plain": [
       "(1, 3, 1)"
      ]
     },
     "execution_count": 6,
     "metadata": {},
     "output_type": "execute_result"
    }
   ],
   "source": [
    "np.transpose(x,tuple([1,0,2])).shape"
   ]
  },
  {
   "cell_type": "code",
   "execution_count": 7,
   "metadata": {},
   "outputs": [
    {
     "data": {
      "text/plain": [
       "(0, 1, 3, 2)"
      ]
     },
     "execution_count": 7,
     "metadata": {},
     "output_type": "execute_result"
    }
   ],
   "source": [
    "def reverse_axes(axes,ndim):\n",
    "    ret_list = [x for x in range(ndim)]\n",
    "    temp = ret_list[axes[0]]\n",
    "    ret_list[axes[0]] = ret_list[axes[1]]\n",
    "    ret_list[axes[1]] = temp\n",
    "    return tuple(ret_list)\n",
    "\n",
    "reverse_axes(tuple([-2,-1]),4)"
   ]
  },
  {
   "cell_type": "code",
   "execution_count": 9,
   "metadata": {},
   "outputs": [],
   "source": [
    "a = np.array(np.random.randn(6,6,5,4))\n",
    "b = np.array(np.random.randn(4,3))"
   ]
  },
  {
   "cell_type": "code",
   "execution_count": 10,
   "metadata": {},
   "outputs": [],
   "source": [
    "c = np.matmul(a,b)"
   ]
  },
  {
   "cell_type": "code",
   "execution_count": 13,
   "metadata": {},
   "outputs": [
    {
     "name": "stdout",
     "output_type": "stream",
     "text": [
      "4\n"
     ]
    }
   ],
   "source": [
    "print(c.ndim)"
   ]
  },
  {
   "cell_type": "code",
   "execution_count": 14,
   "metadata": {},
   "outputs": [
    {
     "data": {
      "text/plain": [
       "(6, 6, 5, 3)"
      ]
     },
     "execution_count": 14,
     "metadata": {},
     "output_type": "execute_result"
    }
   ],
   "source": [
    "c.shape"
   ]
  },
  {
   "cell_type": "code",
   "execution_count": null,
   "metadata": {},
   "outputs": [],
   "source": [
    "def gradient_check(f, *args, tol=1e-6, backward=False, **kwargs):\n",
    "    eps = 1e-4\n",
    "    numerical_grads = [np.zeros(a.shape) for a in args]\n",
    "    for i in range(len(args)):\n",
    "        for j in range(args[i].realize_cached_data().size):\n",
    "            args[i].realize_cached_data().flat[j] += eps\n",
    "            f1 = float(f(*args, **kwargs).numpy().sum())\n",
    "            args[i].realize_cached_data().flat[j] -= 2 * eps\n",
    "            f2 = float(f(*args, **kwargs).numpy().sum())\n",
    "            args[i].realize_cached_data().flat[j] += eps\n",
    "            numerical_grads[i].flat[j] = (f1 - f2) / (2 * eps)\n",
    "    if not backward:\n",
    "        out = f(*args, **kwargs)\n",
    "        computed_grads = [\n",
    "            x.numpy()\n",
    "            for x in out.op.gradient_as_tuple(ndl.Tensor(np.ones(out.shape)), out)\n",
    "        ]\n",
    "    else:\n",
    "        out = f(*args, **kwargs).sum()\n",
    "        out.backward()\n",
    "        computed_grads = [a.grad.numpy() for a in args]\n",
    "    error = sum(\n",
    "        np.linalg.norm(computed_grads[i] - numerical_grads[i]) for i in range(len(args))\n",
    "    )\n",
    "    assert error < tol\n",
    "    return computed_grads"
   ]
  }
 ],
 "metadata": {
  "kernelspec": {
   "display_name": "base",
   "language": "python",
   "name": "python3"
  },
  "language_info": {
   "codemirror_mode": {
    "name": "ipython",
    "version": 3
   },
   "file_extension": ".py",
   "mimetype": "text/x-python",
   "name": "python",
   "nbconvert_exporter": "python",
   "pygments_lexer": "ipython3",
   "version": "3.9.16"
  }
 },
 "nbformat": 4,
 "nbformat_minor": 2
}
